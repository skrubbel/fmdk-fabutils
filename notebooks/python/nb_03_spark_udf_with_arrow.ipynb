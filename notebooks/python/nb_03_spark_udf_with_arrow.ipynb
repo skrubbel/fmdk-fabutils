{
 "cells": [
  {
   "cell_type": "markdown",
   "id": "947896a1-99ac-4360-b8d9-c85472b14411",
   "metadata": {
    "microsoft": {
     "language": "python",
     "language_group": "jupyter_python"
    },
    "nteract": {
     "transient": {
      "deleting": false
     }
    }
   },
   "source": [
    "# Python notebooks on Microsoft Fabric"
   ]
  },
  {
   "cell_type": "markdown",
   "id": "be9939aa-c1c4-447c-9308-8eaa5aa746f9",
   "metadata": {
    "microsoft": {
     "language": "python",
     "language_group": "jupyter_python"
    },
    "nteract": {
     "transient": {
      "deleting": false
     }
    }
   },
   "source": [
    "## Topic of notebook"
   ]
  },
  {
   "cell_type": "markdown",
   "id": "55c03e1f-9937-41ea-a861-39c51c3faac2",
   "metadata": {
    "microsoft": {
     "language": "python",
     "language_group": "jupyter_python"
    },
    "nteract": {
     "transient": {
      "deleting": false
     }
    }
   },
   "source": [
    "### Install and import libraries\n",
    "\n",
    "**!pip install** = Shell command that installs the library on the _Driver Node_ only.\n",
    "\n",
    "**%pip install** = Magic command that installs the library on _Driver and Worker Nodes_ (Spark)"
   ]
  },
  {
   "cell_type": "code",
   "execution_count": null,
   "id": "c3abbbf1-e45f-474d-84e6-b95dd3f6690c",
   "metadata": {
    "microsoft": {
     "language": "python",
     "language_group": "jupyter_python"
    }
   },
   "outputs": [],
   "source": [
    "!pip install semantic-link-labs -qq\n"
   ]
  },
  {
   "cell_type": "code",
   "execution_count": null,
   "id": "edbe8d51-8d12-4683-a732-c4101f2ee6e4",
   "metadata": {
    "microsoft": {
     "language": "python",
     "language_group": "jupyter_python"
    }
   },
   "outputs": [],
   "source": [
    "import notebookutils as nbutils\n",
    "import logging\n",
    "import sys\n",
    "\n",
    "import polars as pl\n",
    "import pyarrow as pa\n",
    "import sempy.fabric as fabric\n",
    "import sempy_labs as slab"
   ]
  },
  {
   "cell_type": "markdown",
   "id": "2fee6f9b-f0fe-4aa1-8647-5cf6933c0ccd",
   "metadata": {
    "microsoft": {
     "language": "python",
     "language_group": "jupyter_python"
    },
    "nteract": {
     "transient": {
      "deleting": false
     }
    }
   },
   "source": [
    "### Set up logging"
   ]
  },
  {
   "cell_type": "code",
   "execution_count": null,
   "id": "dc1f6d67-441a-4b45-8c1f-ce159ae01190",
   "metadata": {
    "microsoft": {
     "language": "python",
     "language_group": "jupyter_python"
    }
   },
   "outputs": [],
   "source": [
    "logging.basicConfig(level=logging.WARNING)\n",
    "\n",
    "# Use a named logger\n",
    "nb_logger = logging.getLogger(\"notebook_logger\")\n",
    "nb_logger.setLevel(logging.INFO)\n",
    "\n",
    "# Add handler and formattter\n",
    "handler = logging.StreamHandler(sys.stdout)\n",
    "formatter = logging.Formatter(\"%(asctime)s %(levelname)-5s %(message)s\", datefmt=\"%H:%M:%S\")\n",
    "\n",
    "handler.setFormatter(formatter)\n",
    "nb_logger.addHandler(handler)\n",
    "nb_logger.propagate = False\n",
    "\n",
    "# Silence all other loggers\n",
    "for name, logger in logging.root.manager.loggerDict.items():\n",
    "    if name != \"notebook_logger\":\n",
    "        logging.getLogger(name).setLevel(logging.WARNING)\n"
   ]
  },
  {
   "cell_type": "markdown",
   "id": "c501f14f-d8bc-4171-9d09-9d0b6fbbc671",
   "metadata": {
    "microsoft": {
     "language": "python",
     "language_group": "jupyter_python"
    },
    "nteract": {
     "transient": {
      "deleting": false
     }
    }
   },
   "source": [
    "**General imports**"
   ]
  },
  {
   "cell_type": "code",
   "execution_count": null,
   "id": "7ebe6331-3570-47dc-b58a-bd51f75ebcbe",
   "metadata": {
    "microsoft": {
     "language": "python",
     "language_group": "jupyter_python"
    }
   },
   "outputs": [],
   "source": [
    "import logging\n",
    "import time\n",
    "from typing import Any\n",
    "\n",
    "import pandas as pd\n",
    "import pyarrow as pa\n",
    "\n",
    "logger = logging.getLogger(__name__)\n",
    "\n",
    "\n",
    "# TODO: Observe for coming changes to Polars implementation\n",
    "def excel_to_arrow_table(excel_abfss_path: str, sheet_name: str, preserve_index: bool = False, **kwargs: Any) -> pa.Table:\n",
    "    \"\"\"Returns a pyarrow table after reading a specific sheet in the Excel file.\n",
    "\n",
    "    Additional keyword arguments are passed directly to 'pd.read_excel'.\n",
    "    \"\"\"\n",
    "    try:\n",
    "        # Pass sheet_name explicitly to keep signature clear,\n",
    "        # merge with any additional kwargs (kwargs can override sheet_name if given).\n",
    "        pandas_df = pd.read_excel(excel_abfss_path, sheet_name=sheet_name, engine=\"openpyxl\", **kwargs)\n",
    "    except FileNotFoundError:\n",
    "        logger.error(f\"File not found: {excel_abfss_path}\")\n",
    "        raise\n",
    "    except ValueError as e:\n",
    "        logger.error(f\"ValueError when reading Excel: {e}\")\n",
    "        raise\n",
    "\n",
    "    # Only convert to Arrow after reading succeeded, outside try block\n",
    "    return pa.Table.from_pandas(pandas_df, preserve_index=preserve_index)\n",
    "\n",
    "\n",
    "def safe_api_call(func, retries=3, delay=2, **kwargs):\n",
    "    \"\"\"Safely calls a function with retry logic.\"\"\"\n",
    "    for attempt in range(retries):\n",
    "        try:\n",
    "            return func(**kwargs)\n",
    "        except Exception as e:\n",
    "            print(f\"Attempt {attempt + 1} failed: {e}\")\n",
    "            if attempt < retries - 1:\n",
    "                time.sleep(delay)\n",
    "            else:\n",
    "                raise"
   ]
  }
 ],
 "metadata": {
  "dependencies": {},
  "kernel_info": {
   "jupyter_kernel_name": "python3.11",
   "name": "jupyter"
  },
  "kernelspec": {
   "display_name": "Jupyter",
   "name": "jupyter"
  },
  "language_info": {
   "name": "python"
  },
  "microsoft": {
   "language": "python",
   "language_group": "jupyter_python",
   "ms_spell_check": {
    "ms_spell_check_language": "en"
   }
  },
  "nteract": {
   "version": "nteract-front-end@1.0.0"
  },
  "spark_compute": {
   "compute_id": "/trident/default",
   "session_options": {
    "conf": {
     "spark.synapse.nbs.session.timeout": "1200000"
    }
   }
  }
 },
 "nbformat": 4,
 "nbformat_minor": 5
}

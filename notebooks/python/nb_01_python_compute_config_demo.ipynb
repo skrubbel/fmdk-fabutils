{
 "cells": [
  {
   "cell_type": "markdown",
   "id": "5476c828-4189-46a4-8b01-6d09b617a3b3",
   "metadata": {
    "microsoft": {
     "language": "python",
     "language_group": "jupyter_python"
    },
    "nteract": {
     "transient": {
      "deleting": false
     }
    }
   },
   "source": [
    "# Python Notebooks on Fabric"
   ]
  },
  {
   "cell_type": "markdown",
   "id": "f2a60c56-af42-46ea-97d9-e6f23ad7ef9b",
   "metadata": {
    "microsoft": {
     "language": "python",
     "language_group": "jupyter_python"
    },
    "nteract": {
     "transient": {
      "deleting": false
     }
    }
   },
   "source": [
    "## Example - Configure more vCores\n",
    "Each vCore adds approximately 8GB of RAM. **But** each vCore also adds a cost of 0.5CU per second."
   ]
  },
  {
   "cell_type": "code",
   "execution_count": null,
   "id": "05a3dd2b-f3ee-4c41-bd16-126f2a1f2393",
   "metadata": {
    "microsoft": {
     "language": "python",
     "language_group": "jupyter_python"
    }
   },
   "outputs": [],
   "source": [
    "%%configure -f\n",
    "{\n",
    "    \"vCores\": 4\n",
    "}"
   ]
  },
  {
   "cell_type": "markdown",
   "id": "16989ce6-1232-4048-a502-d4a5c5e831bf",
   "metadata": {
    "microsoft": {
     "language": "python",
     "language_group": "jupyter_python"
    },
    "nteract": {
     "transient": {
      "deleting": false
     }
    }
   },
   "source": [
    "## Check the configuration"
   ]
  },
  {
   "cell_type": "code",
   "execution_count": null,
   "id": "31711f90-73b7-483a-95a0-2d8444d8b8e6",
   "metadata": {
    "microsoft": {
     "language": "python",
     "language_group": "jupyter_python"
    }
   },
   "outputs": [],
   "source": [
    "import os\n",
    "import psutil\n",
    "\n",
    "def show_resources():\n",
    "    # Get CPU count\n",
    "    cpu_count = os.cpu_count()\n",
    "    # Get memory info\n",
    "    memory_info = psutil.virtual_memory()\n",
    "    \n",
    "    print(f\"Available CPUs: {cpu_count}\")\n",
    "    print(f\"Total Memory: {memory_info.total / (1024**3):.2f} GB\")\n",
    "    print(f\"Available Memory: {memory_info.available / (1024**3):.2f} GB\")\n",
    "\n",
    "show_resources()"
   ]
  },
  {
   "cell_type": "markdown",
   "id": "c29528b2-dddb-401c-b0a1-f38e9b180d0b",
   "metadata": {
    "microsoft": {
     "language": "python",
     "language_group": "jupyter_python"
    },
    "nteract": {
     "transient": {
      "deleting": false
     }
    }
   },
   "source": [
    "## More specific configuration\n",
    "This configuration:\n",
    "\n",
    "- Allocates 16 vCores (approximately 128GB memory)\n",
    "- Mounts a specific path for data access\n",
    "- Sets a default lakehouse for operations"
   ]
  },
  {
   "cell_type": "code",
   "execution_count": null,
   "id": "2719a665-03fc-4a59-9bf5-97a41786517b",
   "metadata": {
    "microsoft": {
     "language": "python",
     "language_group": "jupyter_python"
    }
   },
   "outputs": [],
   "source": [
    "%%configure -f\n",
    "{\n",
    "    \"vCores\": 16,\n",
    "    \"mountPoints\": [\n",
    "        \"/lakehouse/default/Files/large_data\"\n",
    "    ],\n",
    "    \"defaultLakehouse\": \"lakehouse_name\"\n",
    "}"
   ]
  }
 ],
 "metadata": {
  "dependencies": {},
  "kernel_info": {
   "jupyter_kernel_name": "python3.11",
   "name": "jupyter"
  },
  "kernelspec": {
   "display_name": "fmdk-fabutils",
   "language": "python",
   "name": "python3"
  },
  "language_info": {
   "name": "python",
   "version": "3.11.9"
  },
  "microsoft": {
   "language": "python",
   "language_group": "jupyter_python",
   "ms_spell_check": {
    "ms_spell_check_language": "en"
   }
  },
  "nteract": {
   "version": "nteract-front-end@1.0.0"
  },
  "spark_compute": {
   "compute_id": "/trident/default",
   "session_options": {
    "conf": {
     "spark.synapse.nbs.session.timeout": "1200000"
    }
   }
  },
  "widgets": {
   "application/vnd.jupyter.widget-state+json": {
    "state": {
     "12ead218e7934c59b2f15a635d9e9246": {
      "model_module": "@jupyter-widgets/controls",
      "model_module_version": "2.0.0",
      "model_name": "DropdownModel",
      "state": {
       "_options_labels": [
        "1",
        "2",
        "3"
       ],
       "description": "Number:",
       "index": 2,
       "layout": "IPY_MODEL_a64c9a397ce74875a5267cfaa5e2ff6d",
       "style": "IPY_MODEL_1376d5993c2b42c484644a9d3c637ce9"
      }
     },
     "1376d5993c2b42c484644a9d3c637ce9": {
      "model_module": "@jupyter-widgets/controls",
      "model_module_version": "2.0.0",
      "model_name": "DescriptionStyleModel",
      "state": {
       "description_width": ""
      }
     },
     "a64c9a397ce74875a5267cfaa5e2ff6d": {
      "model_module": "@jupyter-widgets/base",
      "model_module_version": "2.0.0",
      "model_name": "LayoutModel",
      "state": {}
     }
    },
    "version_major": 2,
    "version_minor": 0
   }
  }
 },
 "nbformat": 4,
 "nbformat_minor": 5
}

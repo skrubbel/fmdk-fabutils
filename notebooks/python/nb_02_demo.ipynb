{
 "cells": [
  {
   "cell_type": "code",
   "execution_count": null,
   "id": "5637701b",
   "metadata": {},
   "outputs": [],
   "source": [
    "import notebookutils as nbutils\n",
    "import pandas as pd\n",
    "import pyarrow as pa\n",
    "from typing import Any\n",
    "import polars as pl"
   ]
  },
  {
   "cell_type": "code",
   "execution_count": null,
   "id": "0e803be8",
   "metadata": {},
   "outputs": [],
   "source": [
    "def excel_sheet_to_pyarrow(abfss_path: str, sheet_name: str, **kwargs: Any ) -> pa.Table:\n",
    "    \"\"\"\n",
    "    Read a specific sheet from an Excel file.\n",
    "    \n",
    "    Args:\n",
    "        abfss_path: ABFSS path to the Excel file (.xlsx format)\n",
    "        sheet_name: Name of the sheet to read\n",
    "        \n",
    "    Returns:\n",
    "        PyArrow Table containing the sheet data\n",
    "        \n",
    "    Example:\n",
    "        >>> config_table = read_config_sheet(\n",
    "        ...     \"abfss://container@storage.dfs.core.windows.net/config/solution_config.xlsx\",\n",
    "        ...     \"workspaces\"\n",
    "        ... )\n",
    "    \"\"\"\n",
    "    try:\n",
    "        # Read Excel sheet using pandas\n",
    "        # pandas handles Excel files natively without Spark overhead\n",
    "        df = pd.read_excel(\n",
    "            abfss_path,\n",
    "            sheet_name=sheet_name,\n",
    "            engine='openpyxl'  # Required for .xlsx files\n",
    "        )\n",
    "        \n",
    "        # Convert to PyArrow Table for efficient columnar storage\n",
    "        # PyArrow is lightweight and integrates well with modern data tools\n",
    "        arrow_table = pa.Table.from_pandas(df)\n",
    "        \n",
    "        print(f\"✓ Successfully read sheet '{sheet_name}' with {len(df)} rows\")\n",
    "        print(f\"  Columns: {', '.join(df.columns)}\")\n",
    "        \n",
    "        return arrow_table\n",
    "        \n",
    "    except FileNotFoundError:\n",
    "        raise FileNotFoundError(f\"File not found: {abfss_path}\")\n",
    "    except ValueError as e:\n",
    "        raise ValueError(f\"Sheet '{sheet_name}' not found in workbook: {e}\")\n",
    "    except Exception as e:\n",
    "        raise Exception(f\"Error reading Excel file: {str(e)}\")"
   ]
  }
 ],
 "metadata": {
  "kernelspec": {
   "display_name": "fmdk-fabutils",
   "language": "python",
   "name": "python3"
  },
  "language_info": {
   "name": "python",
   "version": "3.11.9"
  }
 },
 "nbformat": 4,
 "nbformat_minor": 5
}

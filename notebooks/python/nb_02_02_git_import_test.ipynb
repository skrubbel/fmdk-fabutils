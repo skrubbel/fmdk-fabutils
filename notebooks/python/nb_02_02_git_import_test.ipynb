{
 "cells": [
  {
   "cell_type": "markdown",
   "id": "f2befd58-0c23-4641-93f7-3881eb8572aa",
   "metadata": {
    "microsoft": {
     "language": "python",
     "language_group": "jupyter_python"
    },
    "nteract": {
     "transient": {
      "deleting": false
     }
    }
   },
   "source": [
    "# Python Notebooks on Microsoft Fabric"
   ]
  },
  {
   "cell_type": "markdown",
   "id": "c8f67342-8b00-4f5e-b7c5-fba536c6d1ee",
   "metadata": {
    "microsoft": {
     "language": "python",
     "language_group": "jupyter_python"
    },
    "nteract": {
     "transient": {
      "deleting": false
     }
    }
   },
   "source": [
    "## Set configuration"
   ]
  },
  {
   "cell_type": "code",
   "execution_count": null,
   "id": "6d508398-43c5-47e2-8f6a-0b91cd428445",
   "metadata": {
    "microsoft": {
     "language": "python",
     "language_group": "synapse_pyspark"
    }
   },
   "outputs": [],
   "source": [
    "%%configure\n",
    "{\n",
    "    \"defaultLakehouse\": {\n",
    "        \"name\": \"lh_fmdk_solution_config\",\n",
    "    },\n",
    "}"
   ]
  },
  {
   "cell_type": "markdown",
   "id": "4f04c44f-4e8c-42d3-a035-0cee030bbf9c",
   "metadata": {
    "microsoft": {
     "language": "python",
     "language_group": "jupyter_python"
    },
    "nteract": {
     "transient": {
      "deleting": false
     }
    }
   },
   "source": [
    "## For Python Notebook Run"
   ]
  },
  {
   "cell_type": "code",
   "execution_count": null,
   "id": "bbb393f3-fbab-4e1e-a77c-81a9469d444f",
   "metadata": {
    "microsoft": {
     "language": "python",
     "language_group": "synapse_pyspark"
    }
   },
   "outputs": [],
   "source": [
    "!pip install git+https://github.com/skrubbel/fmdk-fabutils/ --no-dependencies -qq"
   ]
  },
  {
   "cell_type": "code",
   "execution_count": null,
   "id": "f13bebd4-26ed-4f59-aeef-faa1e774e86e",
   "metadata": {
    "microsoft": {
     "language": "python",
     "language_group": "synapse_pyspark"
    }
   },
   "outputs": [],
   "source": [
    "CONFIG_FILE_PATH = \"abfss://ws_fmdk_solution@onelake.dfs.fabric.microsoft.com/lh_fmdk_solution_config.Lakehouse/Files/config/python_solution_config.xlsx\""
   ]
  },
  {
   "cell_type": "markdown",
   "id": "e5e63222-da17-49e1-b95c-8f55b634f1c3",
   "metadata": {
    "microsoft": {
     "language": "python",
     "language_group": "synapse_pyspark"
    },
    "nteract": {
     "transient": {
      "deleting": false
     }
    }
   },
   "source": [
    "## For Spark Notebook Run"
   ]
  },
  {
   "cell_type": "code",
   "execution_count": null,
   "id": "b1153fee-7dd1-4cb0-9794-eeab45811719",
   "metadata": {
    "microsoft": {
     "language": "python",
     "language_group": "synapse_pyspark"
    }
   },
   "outputs": [],
   "source": [
    "%pip install git+https://github.com/skrubbel/fmdk-fabutils/ --no-dependencies -qq"
   ]
  },
  {
   "cell_type": "code",
   "execution_count": null,
   "id": "ec7c810f-cc5a-4054-93d2-94d57919fe08",
   "metadata": {
    "microsoft": {
     "language": "python",
     "language_group": "synapse_pyspark"
    }
   },
   "outputs": [],
   "source": [
    "CONFIG_FILE_PATH = \"abfss://ws_fmdk_solution@onelake.dfs.fabric.microsoft.com/lh_fmdk_solution_config.Lakehouse/Files/config/spark_python_solution_config.xlsx\""
   ]
  },
  {
   "cell_type": "code",
   "execution_count": null,
   "id": "443e83df-721a-4423-8e05-f4f05f03fa7f",
   "metadata": {
    "microsoft": {
     "language": "python",
     "language_group": "synapse_pyspark"
    }
   },
   "outputs": [],
   "source": [
    "from fabutils.fileutils import excel_sheet_to_pyarrow_table"
   ]
  },
  {
   "cell_type": "code",
   "execution_count": null,
   "id": "b786a9a6-1388-4b08-aeb6-590e5cfe3e6f",
   "metadata": {
    "microsoft": {
     "language": "python",
     "language_group": "synapse_pyspark"
    }
   },
   "outputs": [],
   "source": [
    "\n",
    "# CONFIG_FILE_PATH = \"abfss://ws_fmdk_solution@onelake.dfs.fabric.microsoft.com/lh_fmdk_solution_config.Lakehouse/Files/config/python_solution_config.xlsx\"\n",
    "\n",
    "sheet_df = excel_sheet_to_pyarrow_table(CONFIG_FILE_PATH, \"workspaces\")\n",
    "\n",
    "worksheet_dict = sheet_df.to_pylist()\n",
    "\n",
    "print(worksheet_dict)"
   ]
  }
 ],
 "metadata": {
  "dependencies": {},
  "kernel_info": {
   "name": "synapse_pyspark"
  },
  "kernelspec": {
   "display_name": "fmdk-fabutils",
   "language": "python",
   "name": "python3"
  },
  "language_info": {
   "name": "python",
   "version": "3.11.9"
  },
  "microsoft": {
   "language": "python",
   "language_group": "synapse_pyspark",
   "ms_spell_check": {
    "ms_spell_check_language": "en"
   }
  },
  "nteract": {
   "version": "nteract-front-end@1.0.0"
  },
  "spark_compute": {
   "compute_id": "/trident/default",
   "session_options": {
    "conf": {
     "spark.synapse.nbs.session.timeout": "1200000"
    }
   }
  }
 },
 "nbformat": 4,
 "nbformat_minor": 5
}

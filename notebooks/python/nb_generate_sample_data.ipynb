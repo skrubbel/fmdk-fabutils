{
 "cells": [
  {
   "cell_type": "code",
   "execution_count": 4,
   "id": "672c9df2",
   "metadata": {},
   "outputs": [
    {
     "name": "stdout",
     "output_type": "stream",
     "text": [
      "Generated 500000 organization records in '..\\..\\data\\organizations.csv'\n"
     ]
    }
   ],
   "source": [
    "from mimesis import Person, Address, Text, Datetime, Internet, Choice\n",
    "import csv\n",
    "import random\n",
    "\n",
    "def generate_organization_csv(filename, num_records=100):\n",
    "    \"\"\"\n",
    "    Generate a CSV file with organization data using mimesis library.\n",
    "    \n",
    "    Args:\n",
    "        filename (str): Name of the CSV file to create\n",
    "        num_records (int): Number of organization records to generate\n",
    "    \"\"\"\n",
    "    \n",
    "    # Initialize mimesis providers\n",
    "    person = Person()\n",
    "    address = Address()\n",
    "    text = Text()\n",
    "    datetime = Datetime()\n",
    "    internet = Internet()\n",
    "    choice = Choice()\n",
    "    \n",
    "    # Define industry options\n",
    "    industries = [\n",
    "        'Technology', 'Healthcare', 'Finance', 'Education', 'Manufacturing',\n",
    "        'Retail', 'Consulting', 'Construction', 'Energy', 'Transportation',\n",
    "        'Media', 'Real Estate', 'Food & Beverage', 'Automotive', 'Pharmaceuticals'\n",
    "    ]\n",
    "    \n",
    "    with open(filename, 'w', newline='', encoding='utf-8') as csvfile:\n",
    "        writer = csv.writer(csvfile, delimiter=';')\n",
    "        \n",
    "        # Write header\n",
    "        writer.writerow([\n",
    "            'Index', 'Organization Id', 'Name', 'Website', 'Country', \n",
    "            'Description', 'Founded', 'Industry', 'Number of employees'\n",
    "        ])\n",
    "        \n",
    "        # Generate data\n",
    "        for i in range(num_records):\n",
    "            org_id = f\"ORG-{random.randint(100000, 999999)}\"\n",
    "            name = f\"{person.last_name()} {choice(['Corp', 'Inc', 'Ltd', 'LLC', 'Group', 'Solutions', 'Systems'])}\"\n",
    "            website = internet.url()\n",
    "            country = address.country()\n",
    "            description = text.sentence()\n",
    "            founded = datetime.year(minimum=1950, maximum=2023)\n",
    "            industry = choice(industries)\n",
    "            employees = random.randint(10, 50000)\n",
    "            \n",
    "            writer.writerow([\n",
    "                i + 1, org_id, name, website, country, \n",
    "                description, founded, industry, employees\n",
    "            ])\n",
    "    \n",
    "    print(f\"Generated {num_records} organization records in '{filename}'\")\n",
    "\n",
    "# Generate sample CSV file\n",
    "\n",
    "# data\n",
    "generate_organization_csv('..\\..\\data\\organizations.csv', 500000)"
   ]
  },
  {
   "cell_type": "code",
   "execution_count": null,
   "id": "5d1ad22d",
   "metadata": {},
   "outputs": [],
   "source": []
  }
 ],
 "metadata": {
  "kernelspec": {
   "display_name": "fmdk-fabutils",
   "language": "python",
   "name": "python3"
  },
  "language_info": {
   "codemirror_mode": {
    "name": "ipython",
    "version": 3
   },
   "file_extension": ".py",
   "mimetype": "text/x-python",
   "name": "python",
   "nbconvert_exporter": "python",
   "pygments_lexer": "ipython3",
   "version": "3.11.9"
  }
 },
 "nbformat": 4,
 "nbformat_minor": 5
}
